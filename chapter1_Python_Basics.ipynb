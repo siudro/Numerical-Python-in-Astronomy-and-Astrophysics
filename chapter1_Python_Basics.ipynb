{
 "cells": [
  {
   "attachments": {},
   "cell_type": "markdown",
   "metadata": {},
   "source": [
    "# Chapter 1: Python Basics\n",
    "## 1.1 Using Python"
   ]
  },
  {
   "cell_type": "code",
   "execution_count": 1,
   "metadata": {},
   "outputs": [
    {
     "name": "stdout",
     "output_type": "stream",
     "text": [
      "Hello, Universe!\n"
     ]
    }
   ],
   "source": [
    "# check if you have python installed\n",
    "print(\"Hello, Universe!\")"
   ]
  },
  {
   "attachments": {},
   "cell_type": "markdown",
   "metadata": {},
   "source": [
    "## 1.2 Understanding Expression and Assignments"
   ]
  },
  {
   "cell_type": "code",
   "execution_count": 6,
   "metadata": {},
   "outputs": [
    {
     "name": "stdout",
     "output_type": "stream",
     "text": [
      "29.783388086185045\n",
      "29.783388086185045\n"
     ]
    }
   ],
   "source": [
    "# calculate Earth velocity around the Sun\n",
    "# 2*Pi*radius in km/period which is a year in seconds\n",
    "print(2 * 3.14159 * (1.496* 10**8) / (3.156*10**7))\n",
    "# or \n",
    "print(2 * 3.14159 * 1.496e8/ 3.156e7)"
   ]
  },
  {
   "cell_type": "code",
   "execution_count": 11,
   "metadata": {},
   "outputs": [
    {
     "name": "stdout",
     "output_type": "stream",
     "text": [
      "29.783388086185045\n",
      "orbital velocity =  29.783388086185045  km/s\n"
     ]
    }
   ],
   "source": [
    "# make a simple calculator\n",
    "radius = 1.496e8 # orbital radius in km\n",
    "period = 3.156e7 # orbital period in s\n",
    "pi = 3.14159     # value of pi\n",
    "\n",
    "# calculate the orbital velocity\n",
    "velocity = 2 * pi * radius / period\n",
    "\n",
    "# display output\n",
    "print(velocity)\n",
    "# or\n",
    "print(\"orbital velocity = \", velocity, \" km/s\")"
   ]
  },
  {
   "cell_type": "code",
   "execution_count": 12,
   "metadata": {},
   "outputs": [
    {
     "name": "stdout",
     "output_type": "stream",
     "text": [
      "orbital velocity = 29.78 km/s\n"
     ]
    }
   ],
   "source": [
    "# discard unimportant digits that might cause errors in computations\n",
    "print(\"orbital velocity = {:5.2f} km/s\".format(velocity))"
   ]
  },
  {
   "cell_type": "code",
   "execution_count": 13,
   "metadata": {},
   "outputs": [
    {
     "name": "stdout",
     "output_type": "stream",
     "text": [
      "the radius of the imaginary planet = 1.496e+09 km\n"
     ]
    }
   ],
   "source": [
    "# calculate the radius of an imaginary planet that is 10 times bigger than Earth\n",
    "radius = 10*radius\n",
    "print(\"the radius of the imaginary planet = {:.3e} km\".format(radius))\n"
   ]
  },
  {
   "attachments": {},
   "cell_type": "markdown",
   "metadata": {},
   "source": [
    "### Kepler's third law of planetary motion, for a planet that orbits in a circular motion around our sun\n",
    "$${P^2} ={\\frac{4\\pi^2}{GM}}\\times{r^3}$$\n",
    "where $$M = 1.989\\times{10^30}kg$$ is the mass of the ☀\n",
    "and $$G = 6.674\\times{10^-10} N {kg^-2}{m^2}$$ is the gravitational constant\n",
    "we can rewrite it as: $$P = 2\\pi \\times{GM^{\\frac{-1}{2}}}{r^{\\frac{3}{2}}}$$\n",
    "\n"
   ]
  },
  {
   "cell_type": "code",
   "execution_count": 14,
   "metadata": {},
   "outputs": [
    {
     "name": "stdout",
     "output_type": "stream",
     "text": [
      "new orbital period = 31.6 years\n",
      "new orbital velocity = 9.42 km/s\n"
     ]
    }
   ],
   "source": [
    "# calculator for period in seconds given the radius in km based on Kepler's third law \n",
    "g = 6.674e-11\n",
    "m = 1.989e30\n",
    "period = 2 * pi * (g * m ) ** (-1/2) * (1e3 * radius) ** (3/2) # we converted the radius from km to m\n",
    "\n",
    "# display period on years\n",
    "print(\"new orbital period = {:.1f} years\".format(period/3.156e7)) # we converted seconds into years\n",
    "\n",
    "velocity = 2 * pi * radius / period\n",
    "# dispaly velocity\n",
    "print(\"new orbital velocity = {:.2f} km/s\".format(velocity))\n",
    "# remember that this velocity belongs to that imaginary planet that is 10 times bigger than Earth!\n"
   ]
  },
  {
   "attachments": {},
   "cell_type": "markdown",
   "metadata": {},
   "source": [
    "### so 1 year in this planet is 31.6 of Earth years! as its slower than earth when it orbits around the ☀"
   ]
  },
  {
   "attachments": {},
   "cell_type": "markdown",
   "metadata": {},
   "source": [
    "## 1.3 Control Structures"
   ]
  }
 ],
 "metadata": {
  "kernelspec": {
   "display_name": "Python 3",
   "language": "python",
   "name": "python3"
  },
  "language_info": {
   "codemirror_mode": {
    "name": "ipython",
    "version": 3
   },
   "file_extension": ".py",
   "mimetype": "text/x-python",
   "name": "python",
   "nbconvert_exporter": "python",
   "pygments_lexer": "ipython3",
   "version": "3.7.6"
  },
  "orig_nbformat": 4
 },
 "nbformat": 4,
 "nbformat_minor": 2
}
