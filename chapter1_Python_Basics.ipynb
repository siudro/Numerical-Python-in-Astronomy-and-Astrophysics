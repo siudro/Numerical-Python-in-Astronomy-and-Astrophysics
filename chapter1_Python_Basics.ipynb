{
 "cells": [
  {
   "attachments": {},
   "cell_type": "markdown",
   "metadata": {},
   "source": [
    "# Chapter 1: Python Basics"
   ]
  },
  {
   "attachments": {},
   "cell_type": "markdown",
   "metadata": {},
   "source": [
    "## 1.1 Using Python"
   ]
  },
  {
   "cell_type": "code",
   "execution_count": 1,
   "metadata": {},
   "outputs": [
    {
     "name": "stdout",
     "output_type": "stream",
     "text": [
      "Hello, Universe!\n"
     ]
    }
   ],
   "source": [
    "# check if you have python installed\n",
    "print(\"Hello, Universe!\")"
   ]
  },
  {
   "attachments": {},
   "cell_type": "markdown",
   "metadata": {},
   "source": [
    "## 1.2 Understanding Expression and Assignments"
   ]
  },
  {
   "cell_type": "code",
   "execution_count": 6,
   "metadata": {},
   "outputs": [
    {
     "name": "stdout",
     "output_type": "stream",
     "text": [
      "29.783388086185045\n",
      "29.783388086185045\n"
     ]
    }
   ],
   "source": [
    "# calculate Earth velocity around the Sun\n",
    "# 2*Pi*radius in km/period which is a year in seconds\n",
    "print(2 * 3.14159 * (1.496* 10**8) / (3.156*10**7))\n",
    "# or \n",
    "print(2 * 3.14159 * 1.496e8/ 3.156e7)"
   ]
  },
  {
   "cell_type": "code",
   "execution_count": 11,
   "metadata": {},
   "outputs": [
    {
     "name": "stdout",
     "output_type": "stream",
     "text": [
      "29.783388086185045\n",
      "orbital velocity =  29.783388086185045  km/s\n"
     ]
    }
   ],
   "source": [
    "# make a simple calculator\n",
    "radius = 1.496e8 # orbital radius in km\n",
    "period = 3.156e7 # orbital period in s\n",
    "pi = 3.14159     # value of pi\n",
    "\n",
    "# calculate the orbital velocity\n",
    "velocity = 2 * pi * radius / period\n",
    "\n",
    "# display output\n",
    "print(velocity)\n",
    "# or\n",
    "print(\"orbital velocity = \", velocity, \" km/s\")"
   ]
  },
  {
   "cell_type": "code",
   "execution_count": 12,
   "metadata": {},
   "outputs": [
    {
     "name": "stdout",
     "output_type": "stream",
     "text": [
      "orbital velocity = 29.78 km/s\n"
     ]
    }
   ],
   "source": [
    "# discard unimportant digits that might cause errors in computations\n",
    "print(\"orbital velocity = {:5.2f} km/s\".format(velocity))"
   ]
  },
  {
   "cell_type": "code",
   "execution_count": 13,
   "metadata": {},
   "outputs": [
    {
     "name": "stdout",
     "output_type": "stream",
     "text": [
      "the radius of the imaginary planet = 1.496e+09 km\n"
     ]
    }
   ],
   "source": [
    "# calculate the radius of an imaginary planet that is 10 times bigger than Earth\n",
    "radius = 10*radius\n",
    "print(\"the radius of the imaginary planet = {:.3e} km\".format(radius))\n"
   ]
  },
  {
   "attachments": {},
   "cell_type": "markdown",
   "metadata": {},
   "source": [
    "### Kepler's third law of planetary motion, for a planet that orbits in a circular motion around our sun\n",
    "$${P^2} ={\\frac{4\\pi^2}{GM}}\\times{r^3}$$\n",
    "where $$M = 1.989\\times{10^30}kg$$ is the mass of the ☀\n",
    "and $$G = 6.674\\times{10^-10} N {kg^-2}{m^2}$$ is the gravitational constant\n",
    "we can rewrite it as: $$P = 2\\pi \\times{GM^{\\frac{-1}{2}}}{r^{\\frac{3}{2}}}$$\n",
    "\n"
   ]
  },
  {
   "cell_type": "code",
   "execution_count": 14,
   "metadata": {},
   "outputs": [
    {
     "name": "stdout",
     "output_type": "stream",
     "text": [
      "new orbital period = 31.6 years\n",
      "new orbital velocity = 9.42 km/s\n"
     ]
    }
   ],
   "source": [
    "# calculator for period in seconds given the radius in km based on Kepler's third law \n",
    "g = 6.674e-11\n",
    "m = 1.989e30\n",
    "period = 2 * pi * (g * m ) ** (-1/2) * (1e3 * radius) ** (3/2) # we converted the radius from km to m\n",
    "\n",
    "# display period on years\n",
    "print(\"new orbital period = {:.1f} years\".format(period/3.156e7)) # we converted seconds into years\n",
    "\n",
    "velocity = 2 * pi * radius / period\n",
    "# dispaly velocity\n",
    "print(\"new orbital velocity = {:.2f} km/s\".format(velocity))\n",
    "# remember that this velocity belongs to that imaginary planet that is 10 times bigger than Earth!\n"
   ]
  },
  {
   "attachments": {},
   "cell_type": "markdown",
   "metadata": {},
   "source": [
    "### so 1 year in this planet is 31.6 of Earth years! as its slower than earth when it orbits around the ☀"
   ]
  },
  {
   "attachments": {},
   "cell_type": "markdown",
   "metadata": {},
   "source": [
    "## 1.3 Control Structures"
   ]
  },
  {
   "cell_type": "code",
   "execution_count": 1,
   "metadata": {},
   "outputs": [
    {
     "name": "stdout",
     "output_type": "stream",
     "text": [
      "sum of the first 100 natural numbers is  5050\n"
     ]
    }
   ],
   "source": [
    "# calculating the sum of first 100 natural numbers using for loop\n",
    "sum = 0 # give initial value for the sum\n",
    "iterations = 100 # number of iterations or how many times we repeat the loop\n",
    "\n",
    "for k in range (1, iterations + 1): # for every item in range from 1 until last iteration, add sum\n",
    "    sum = sum + k\n",
    "\n",
    "print(\"sum of the first 100 natural numbers is \", sum)"
   ]
  },
  {
   "attachments": {},
   "cell_type": "markdown",
   "metadata": {},
   "source": [
    "#### Another solution found by Gauss:\n",
    "$$ sum = \\frac {n(n-1)}{2}"
   ]
  },
  {
   "cell_type": "code",
   "execution_count": 6,
   "metadata": {},
   "outputs": [
    {
     "name": "stdout",
     "output_type": "stream",
     "text": [
      "sum of the first 100 natural numbers is  5050.0\n"
     ]
    }
   ],
   "source": [
    "n = 100 + 1\n",
    "sum = (n*(n - 1)) / 2\n",
    "\n",
    "print(\"sum of the first 100 natural numbers is \", sum)\n"
   ]
  },
  {
   "attachments": {},
   "cell_type": "markdown",
   "metadata": {},
   "source": [
    "### Fibonacci sequence\n",
    "$$ F_n = F_{n-1} + F_{n-2}$$\n",
    "where $$ F_0 = 0 $$ and $$ F_1 = 1 $$\n"
   ]
  },
  {
   "cell_type": "code",
   "execution_count": 9,
   "metadata": {},
   "outputs": [
    {
     "name": "stdout",
     "output_type": "stream",
     "text": [
      "1. fibonacci number is 1\n",
      "2. fibonacci number is 1\n",
      "3. fibonacci number is 2\n",
      "4. fibonacci number is 3\n",
      "5. fibonacci number is 5\n",
      "6. fibonacci number is 8\n",
      "7. fibonacci number is 13\n",
      "8. fibonacci number is 21\n",
      "9. fibonacci number is 34\n",
      "10. fibonacci number is 55\n"
     ]
    }
   ],
   "source": [
    "# fibonacci calculator\n",
    "n_max = 10 # compute the sequence until we reach this item\n",
    "\n",
    "# initialize the constants\n",
    "f_prev = 0\n",
    "f = 1\n",
    "for n in range (1, n_max+1): # compute until we reach the last item\n",
    "    print(\"{:d}. fibonacci number is {:d}\".format(n, f))\n",
    "    f_next = f + f_prev # sume the current item with the item before it\n",
    "    f_prev = f # make the current value as the old value\n",
    "    f = f_next # update the next to be the current value"
   ]
  },
  {
   "attachments": {},
   "cell_type": "markdown",
   "metadata": {},
   "source": [
    "### rewrite it adding a base condition"
   ]
  },
  {
   "cell_type": "code",
   "execution_count": 11,
   "metadata": {},
   "outputs": [
    {
     "name": "stdout",
     "output_type": "stream",
     "text": [
      "1. fibonacci number is 1\n",
      "2. fibonacci number is 1\n",
      "3. fibonacci number is 2\n",
      "4. fibonacci number is 3\n",
      "5. fibonacci number is 5\n",
      "6. fibonacci number is 8\n",
      "7. fibonacci number is 13\n",
      "8. fibonacci number is 21\n",
      "9. fibonacci number is 34\n",
      "10. fibonacci number is 55\n",
      "11. fibonacci number is 89\n",
      "12. fibonacci number is 144\n",
      "13. fibonacci number is 233\n",
      "14. fibonacci number is 377\n",
      "15. fibonacci number is 610\n",
      "16. fibonacci number is 987\n"
     ]
    }
   ],
   "source": [
    "f_prev = 0\n",
    "f, n = 1, 1\n",
    "\n",
    "# compute the sequence until 1000\n",
    "while f < 1000:\n",
    "    print(\"{:d}. fibonacci number is {:d}\".format(n, f))\n",
    "    f_next = f + f_prev # sume the current item with the item before it\n",
    "    f_prev = f # make the current value as the old value\n",
    "    f = f_next # update the next to be the current value\n",
    "    n+=1 # increment counter of the loop\n",
    "    "
   ]
  },
  {
   "attachments": {},
   "cell_type": "markdown",
   "metadata": {},
   "source": [
    "#### Test if the calculated value is even or odd"
   ]
  },
  {
   "cell_type": "code",
   "execution_count": 13,
   "metadata": {},
   "outputs": [
    {
     "name": "stdout",
     "output_type": "stream",
     "text": [
      "Found 5 even numbers and 11 odd numbers\n"
     ]
    }
   ],
   "source": [
    "f_prev = 0\n",
    "f = 1\n",
    "n_odd = 0\n",
    "n_even = 0\n",
    "# compute the sequence until 1000\n",
    "while f < 1000:\n",
    "    f_next = f + f_prev # sume the current item with the item before it\n",
    "    f_prev = f # make the current value as the old value\n",
    "    f = f_next # update the next to be the current value\n",
    "\n",
    "    if f%2 == 0:\n",
    "        n_even +=1\n",
    "    else:\n",
    "        n_odd +=1\n",
    "print(\"Found {:d} even numbers and {:d} odd numbers\".format(n_even, n_odd))\n"
   ]
  },
  {
   "attachments": {},
   "cell_type": "markdown",
   "metadata": {},
   "source": [
    "## 1.4 Working with Modules and Objects"
   ]
  },
  {
   "cell_type": "code",
   "execution_count": 14,
   "metadata": {},
   "outputs": [
    {
     "data": {
      "text/plain": [
       "['Avogadro',\n",
       " 'Boltzmann',\n",
       " 'Btu',\n",
       " 'Btu_IT',\n",
       " 'Btu_th',\n",
       " 'ConstantWarning',\n",
       " 'G',\n",
       " 'Julian_year',\n",
       " 'N_A',\n",
       " 'Planck',\n",
       " 'R',\n",
       " 'Rydberg',\n",
       " 'Stefan_Boltzmann',\n",
       " 'Wien',\n",
       " '__all__',\n",
       " '__builtins__',\n",
       " '__cached__',\n",
       " '__doc__',\n",
       " '__file__',\n",
       " '__loader__',\n",
       " '__name__',\n",
       " '__package__',\n",
       " '__path__',\n",
       " '__spec__',\n",
       " '_obsolete_constants',\n",
       " 'acre',\n",
       " 'alpha',\n",
       " 'angstrom',\n",
       " 'arcmin',\n",
       " 'arcminute',\n",
       " 'arcsec',\n",
       " 'arcsecond',\n",
       " 'astronomical_unit',\n",
       " 'atm',\n",
       " 'atmosphere',\n",
       " 'atomic_mass',\n",
       " 'atto',\n",
       " 'au',\n",
       " 'bar',\n",
       " 'barrel',\n",
       " 'bbl',\n",
       " 'blob',\n",
       " 'c',\n",
       " 'calorie',\n",
       " 'calorie_IT',\n",
       " 'calorie_th',\n",
       " 'carat',\n",
       " 'centi',\n",
       " 'codata',\n",
       " 'constants',\n",
       " 'convert_temperature',\n",
       " 'day',\n",
       " 'deci',\n",
       " 'degree',\n",
       " 'degree_Fahrenheit',\n",
       " 'deka',\n",
       " 'dyn',\n",
       " 'dyne',\n",
       " 'e',\n",
       " 'eV',\n",
       " 'electron_mass',\n",
       " 'electron_volt',\n",
       " 'elementary_charge',\n",
       " 'epsilon_0',\n",
       " 'erg',\n",
       " 'exa',\n",
       " 'exbi',\n",
       " 'femto',\n",
       " 'fermi',\n",
       " 'find',\n",
       " 'fine_structure',\n",
       " 'fluid_ounce',\n",
       " 'fluid_ounce_US',\n",
       " 'fluid_ounce_imp',\n",
       " 'foot',\n",
       " 'g',\n",
       " 'gallon',\n",
       " 'gallon_US',\n",
       " 'gallon_imp',\n",
       " 'gas_constant',\n",
       " 'gibi',\n",
       " 'giga',\n",
       " 'golden',\n",
       " 'golden_ratio',\n",
       " 'grain',\n",
       " 'gram',\n",
       " 'gravitational_constant',\n",
       " 'h',\n",
       " 'hbar',\n",
       " 'hectare',\n",
       " 'hecto',\n",
       " 'horsepower',\n",
       " 'hour',\n",
       " 'hp',\n",
       " 'inch',\n",
       " 'k',\n",
       " 'kgf',\n",
       " 'kibi',\n",
       " 'kilo',\n",
       " 'kilogram_force',\n",
       " 'kmh',\n",
       " 'knot',\n",
       " 'lambda2nu',\n",
       " 'lb',\n",
       " 'lbf',\n",
       " 'light_year',\n",
       " 'liter',\n",
       " 'litre',\n",
       " 'long_ton',\n",
       " 'm_e',\n",
       " 'm_n',\n",
       " 'm_p',\n",
       " 'm_u',\n",
       " 'mach',\n",
       " 'mebi',\n",
       " 'mega',\n",
       " 'metric_ton',\n",
       " 'micro',\n",
       " 'micron',\n",
       " 'mil',\n",
       " 'mile',\n",
       " 'milli',\n",
       " 'minute',\n",
       " 'mmHg',\n",
       " 'mph',\n",
       " 'mu_0',\n",
       " 'nano',\n",
       " 'nautical_mile',\n",
       " 'neutron_mass',\n",
       " 'nu2lambda',\n",
       " 'ounce',\n",
       " 'oz',\n",
       " 'parsec',\n",
       " 'pebi',\n",
       " 'peta',\n",
       " 'physical_constants',\n",
       " 'pi',\n",
       " 'pico',\n",
       " 'point',\n",
       " 'pound',\n",
       " 'pound_force',\n",
       " 'precision',\n",
       " 'proton_mass',\n",
       " 'psi',\n",
       " 'pt',\n",
       " 'short_ton',\n",
       " 'sigma',\n",
       " 'slinch',\n",
       " 'slug',\n",
       " 'speed_of_light',\n",
       " 'speed_of_sound',\n",
       " 'stone',\n",
       " 'survey_foot',\n",
       " 'survey_mile',\n",
       " 'tebi',\n",
       " 'tera',\n",
       " 'test',\n",
       " 'ton_TNT',\n",
       " 'torr',\n",
       " 'troy_ounce',\n",
       " 'troy_pound',\n",
       " 'u',\n",
       " 'unit',\n",
       " 'value',\n",
       " 'week',\n",
       " 'yard',\n",
       " 'year',\n",
       " 'yobi',\n",
       " 'yotta',\n",
       " 'zebi',\n",
       " 'zepto',\n",
       " 'zero_Celsius',\n",
       " 'zetta']"
      ]
     },
     "execution_count": 14,
     "metadata": {},
     "output_type": "execute_result"
    }
   ],
   "source": [
    "# explore some predefined physical constants\n",
    "import scipy.constants\n",
    "dir(scipy.constants)"
   ]
  },
  {
   "cell_type": "code",
   "execution_count": 15,
   "metadata": {},
   "outputs": [
    {
     "name": "stdout",
     "output_type": "stream",
     "text": [
      "6.6743e-11\n"
     ]
    }
   ],
   "source": [
    "print(scipy.constants.gravitational_constant)"
   ]
  },
  {
   "cell_type": "code",
   "execution_count": 16,
   "metadata": {},
   "outputs": [
    {
     "name": "stdout",
     "output_type": "stream",
     "text": [
      "6.6743e-11\n",
      "6.6743e-11\n"
     ]
    }
   ],
   "source": [
    "import scipy.constants as const\n",
    "print(const.G)\n",
    "# or\n",
    "from scipy.constants import G\n",
    "print(G)"
   ]
  },
  {
   "attachments": {},
   "cell_type": "markdown",
   "metadata": {},
   "source": [
    "#### Modify the orbital velocity calculator using the provided constants"
   ]
  },
  {
   "cell_type": "code",
   "execution_count": 18,
   "metadata": {},
   "outputs": [
    {
     "name": "stdout",
     "output_type": "stream",
     "text": [
      " 1 astronomical unit is  149597870700.0  m\n",
      " 1 year is  31536000.0  s\n",
      " radial distance is 10.0 au\n",
      " orbital period is 31.6450 years\n",
      " orbital velocity is 9.42 km/s\n"
     ]
    }
   ],
   "source": [
    "from math import pi, sqrt\n",
    "from astropy.constants import M_sun\n",
    "from scipy.constants import au, G, year\n",
    "\n",
    "print(\" 1 astronomical unit is \", au, \" m\")\n",
    "print(\" 1 year is \", year, \" s\")\n",
    "\n",
    "radius = 10 * au\n",
    "print(\" radial distance is {:.1f} au\".format(radius/au))\n",
    "\n",
    "# Kepler's third law of planetary motion\n",
    "period = 2 * pi * sqrt(radius ** 3 / (G * M_sun.value))\n",
    "print(\" orbital period is {:.4f} years\".format(period/year))\n",
    "\n",
    "velocity = 2 * pi * radius / period\n",
    "print(\" orbital velocity is {:.2f} km/s\".format(1e-3*velocity))\n"
   ]
  },
  {
   "cell_type": "code",
   "execution_count": 19,
   "metadata": {},
   "outputs": [
    {
     "name": "stdout",
     "output_type": "stream",
     "text": [
      "  Name   = Solar mass\n",
      "  Value  = 1.988409870698051e+30\n",
      "  Uncertainty  = 4.468805426856864e+25\n",
      "  Unit  = kg\n",
      "  Reference = IAU 2015 Resolution B 3 + CODATA 2018\n"
     ]
    }
   ],
   "source": [
    "print(M_sun)"
   ]
  },
  {
   "cell_type": "code",
   "execution_count": 20,
   "metadata": {},
   "outputs": [
    {
     "name": "stdout",
     "output_type": "stream",
     "text": [
      "  Name   = Earth mass\n",
      "  Value  = 5.972167867791379e+24\n",
      "  Uncertainty  = 1.3422009501651213e+20\n",
      "  Unit  = kg\n",
      "  Reference = IAU 2015 Resolution B 3 + CODATA 2018\n"
     ]
    }
   ],
   "source": [
    "from astropy.constants import M_earth\n",
    "print(M_earth)"
   ]
  }
 ],
 "metadata": {
  "kernelspec": {
   "display_name": "Python 3",
   "language": "python",
   "name": "python3"
  },
  "language_info": {
   "codemirror_mode": {
    "name": "ipython",
    "version": 3
   },
   "file_extension": ".py",
   "mimetype": "text/x-python",
   "name": "python",
   "nbconvert_exporter": "python",
   "pygments_lexer": "ipython3",
   "version": "3.7.6"
  },
  "orig_nbformat": 4
 },
 "nbformat": 4,
 "nbformat_minor": 2
}
