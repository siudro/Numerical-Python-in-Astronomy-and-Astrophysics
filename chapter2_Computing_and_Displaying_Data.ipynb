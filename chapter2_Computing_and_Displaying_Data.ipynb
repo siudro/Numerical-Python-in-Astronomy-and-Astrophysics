{
 "cells": [
  {
   "attachments": {},
   "cell_type": "markdown",
   "metadata": {},
   "source": [
    "# Chapter 2: Computing and Displaying data"
   ]
  },
  {
   "attachments": {},
   "cell_type": "markdown",
   "metadata": {},
   "source": [
    "## 2.1 Spherical Astronomy"
   ]
  },
  {
   "attachments": {},
   "cell_type": "markdown",
   "metadata": {},
   "source": [
    "### 2.1.1 Declination of the Sun\n",
    "$$d = - \\arcsin(\\sin \\epsilon_0 \\cos (\\frac{360}{365.24} \\times (N + 10)))$$\n"
   ]
  },
  {
   "cell_type": "code",
   "execution_count": 2,
   "metadata": {},
   "outputs": [
    {
     "name": "stdout",
     "output_type": "stream",
     "text": [
      "declination of the sun is 23.43 degrees\n"
     ]
    }
   ],
   "source": [
    "# N is the difference of the days from first day of the year (1st jan)\n",
    "# find the declination of the sun given N and the formula above\n",
    "\n",
    "import math\n",
    "\n",
    "N = 171 # day of the solstice 20th of June in 2020 which is 171 days away from 1st jan\n",
    "omega = 2 * math.pi / 365.24 # angular velocity in radian/day same as 360/365.24\n",
    "ecl = math.radians(23.44) #obliquity of the ecliptic \n",
    "\n",
    "# approximate expression of sun declination **refer to the formula above\n",
    "delta = -math.asin( math.sin(ecl) * math.cos( omega * (N +10)))\n",
    "print(\"declination of the sun is {:.2f} degrees\".format(math.degrees(delta))) # here we need to convert the value from radian to degrees"
   ]
  },
  {
   "attachments": {},
   "cell_type": "markdown",
   "metadata": {},
   "source": [
    "#### compute the declination for several days, How?"
   ]
  },
  {
   "cell_type": "code",
   "execution_count": 4,
   "metadata": {},
   "outputs": [
    {
     "name": "stdout",
     "output_type": "stream",
     "text": [
      "[ 79 171 265 355]\n",
      "4\n",
      "int32\n",
      "171\n",
      "171\n"
     ]
    }
   ],
   "source": [
    "# use numpy arrays\n",
    "import numpy as np\n",
    "N = np.array([79, 171, 265, 355]) # equinoxes and solstices in 2020\n",
    "print(N)\n",
    "print(N.size)\n",
    "print(N.dtype)\n",
    "print(N[1])\n",
    "print(N[-3])"
   ]
  },
  {
   "cell_type": "code",
   "execution_count": 6,
   "metadata": {},
   "outputs": [
    {
     "name": "stdout",
     "output_type": "stream",
     "text": [
      "[ -0.9055077   23.43035419  -0.41950731 -23.43978827]\n"
     ]
    }
   ],
   "source": [
    "# compute the declination of the sun for all given days at once\n",
    "delta = -np.arcsin( math.sin(ecl) * np.cos( omega * (N +10)))\n",
    "print(np.degrees(delta))"
   ]
  },
  {
   "cell_type": "code",
   "execution_count": 7,
   "metadata": {},
   "outputs": [
    {
     "name": "stdout",
     "output_type": "stream",
     "text": [
      "[ 89 181 275 365]\n",
      "int32\n",
      "[1.53105764 3.11372396 4.73079608 6.27905661]\n",
      "float64\n",
      "[ 0.01580343 -0.39763404  0.00732172  0.39778512]\n",
      "[ -0.9055077   23.43035419  -0.41950731 -23.43978827]\n"
     ]
    }
   ],
   "source": [
    "# breaking down the same code above, we get:\n",
    "temp = N +10 # add 10 to each element in the array\n",
    "print(temp)\n",
    "print(temp.dtype)\n",
    "\n",
    "temp = omega * temp # perform element-wise multiplication\n",
    "print(temp)\n",
    "print(temp.dtype)\n",
    "\n",
    "temp = math.sin(ecl) * np.cos(temp)\n",
    "print(temp)\n",
    "\n",
    "delta = -np.arcsin(temp)\n",
    "print(np.degrees(delta))"
   ]
  },
  {
   "cell_type": "code",
   "execution_count": 8,
   "metadata": {},
   "outputs": [
    {
     "name": "stdout",
     "output_type": "stream",
     "text": [
      " the declination is  -0.91 degrees\n",
      " the declination is  23.43 degrees\n",
      " the declination is  -0.42 degrees\n",
      " the declination is -23.44 degrees\n"
     ]
    }
   ],
   "source": [
    "# display elements in the array\n",
    "for element in delta:\n",
    "    print(\" the declination is {:6.2f} degrees\".format(math.degrees(element)))"
   ]
  },
  {
   "cell_type": "code",
   "execution_count": 9,
   "metadata": {},
   "outputs": [
    {
     "name": "stdout",
     "output_type": "stream",
     "text": [
      "i    dat    delta {deg}\n",
      "0     79       -0.91\n",
      "1    171       23.43\n",
      "2    265       -0.42\n",
      "3    355      -23.44\n"
     ]
    }
   ],
   "source": [
    "# better way to display data\n",
    "print(\"i    dat    delta {deg}\")\n",
    "for i, val in enumerate(delta):\n",
    "    print(\"{1:d}    {2:3d}    {0:8.2f}\".format(math.degrees(val), i, N[i]))"
   ]
  },
  {
   "cell_type": "code",
   "execution_count": 10,
   "metadata": {},
   "outputs": [
    {
     "name": "stdout",
     "output_type": "stream",
     "text": [
      "dat    delta {deg}\n",
      " 79       -0.91\n",
      "171       23.43\n",
      "265       -0.42\n",
      "355      -23.44\n"
     ]
    }
   ],
   "source": [
    "# even better\n",
    "print(\"dat    delta {deg}\")\n",
    "for row in zip(N,delta):\n",
    "    print(\"{0:3d}    {1:8.2f}\".format(row[0], math.degrees(row[1])))"
   ]
  }
 ],
 "metadata": {
  "kernelspec": {
   "display_name": "Python 3",
   "language": "python",
   "name": "python3"
  },
  "language_info": {
   "codemirror_mode": {
    "name": "ipython",
    "version": 3
   },
   "file_extension": ".py",
   "mimetype": "text/x-python",
   "name": "python",
   "nbconvert_exporter": "python",
   "pygments_lexer": "ipython3",
   "version": "3.7.6"
  },
  "orig_nbformat": 4
 },
 "nbformat": 4,
 "nbformat_minor": 2
}
