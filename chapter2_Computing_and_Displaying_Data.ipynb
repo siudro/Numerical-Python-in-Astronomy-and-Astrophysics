{
 "cells": [
  {
   "attachments": {},
   "cell_type": "markdown",
   "metadata": {},
   "source": [
    "# Chapter 2: Computing and Displaying data"
   ]
  },
  {
   "attachments": {},
   "cell_type": "markdown",
   "metadata": {},
   "source": [
    "## 2.1 Spherical Astronomy"
   ]
  },
  {
   "attachments": {},
   "cell_type": "markdown",
   "metadata": {},
   "source": [
    "### 2.1.1 Declination of the Sun\n",
    "$$d = - \\arcsin(\\sin \\epsilon_0 \\cos (\\frac{360}{365.24} \\times (N + 10)))$$\n"
   ]
  },
  {
   "cell_type": "code",
   "execution_count": 2,
   "metadata": {},
   "outputs": [
    {
     "name": "stdout",
     "output_type": "stream",
     "text": [
      "declination of the sun is 23.43 degrees\n"
     ]
    }
   ],
   "source": [
    "# N is the difference of the days from first day of the year (1st jan)\n",
    "# find the declination of the sun given N and the formula above\n",
    "\n",
    "import math\n",
    "\n",
    "N = 171 # day of the solstice 20th of June in 2020 which is 171 days away from 1st jan\n",
    "omega = 2 * math.pi / 365.24 # angular velocity in radian/day same as 360/365.24\n",
    "ecl = math.radians(23.44) #obliquity of the ecliptic \n",
    "\n",
    "# approximate expression of sun declination **refer to the formula above\n",
    "delta = -math.asin( math.sin(ecl) * math.cos( omega * (N +10)))\n",
    "print(\"declination of the sun is {:.2f} degrees\".format(math.degrees(delta))) # here we need to convert the value from radian to degrees"
   ]
  },
  {
   "attachments": {},
   "cell_type": "markdown",
   "metadata": {},
   "source": [
    "#### compute the declination for several days, How?"
   ]
  },
  {
   "cell_type": "code",
   "execution_count": 4,
   "metadata": {},
   "outputs": [
    {
     "name": "stdout",
     "output_type": "stream",
     "text": [
      "[ 79 171 265 355]\n",
      "4\n",
      "int32\n",
      "171\n",
      "171\n"
     ]
    }
   ],
   "source": [
    "# use numpy arrays\n",
    "import numpy as np\n",
    "N = np.array([79, 171, 265, 355]) # equinoxes and solstices in 2020\n",
    "print(N)\n",
    "print(N.size)\n",
    "print(N.dtype)\n",
    "print(N[1])\n",
    "print(N[-3])"
   ]
  },
  {
   "cell_type": "code",
   "execution_count": 6,
   "metadata": {},
   "outputs": [
    {
     "name": "stdout",
     "output_type": "stream",
     "text": [
      "[ -0.9055077   23.43035419  -0.41950731 -23.43978827]\n"
     ]
    }
   ],
   "source": [
    "# compute the declination of the sun for all given days at once\n",
    "delta = -np.arcsin( math.sin(ecl) * np.cos( omega * (N +10)))\n",
    "print(np.degrees(delta))"
   ]
  },
  {
   "cell_type": "code",
   "execution_count": 7,
   "metadata": {},
   "outputs": [
    {
     "name": "stdout",
     "output_type": "stream",
     "text": [
      "[ 89 181 275 365]\n",
      "int32\n",
      "[1.53105764 3.11372396 4.73079608 6.27905661]\n",
      "float64\n",
      "[ 0.01580343 -0.39763404  0.00732172  0.39778512]\n",
      "[ -0.9055077   23.43035419  -0.41950731 -23.43978827]\n"
     ]
    }
   ],
   "source": [
    "# breaking down the same code above, we get:\n",
    "temp = N +10 # add 10 to each element in the array\n",
    "print(temp)\n",
    "print(temp.dtype)\n",
    "\n",
    "temp = omega * temp # perform element-wise multiplication\n",
    "print(temp)\n",
    "print(temp.dtype)\n",
    "\n",
    "temp = math.sin(ecl) * np.cos(temp)\n",
    "print(temp)\n",
    "\n",
    "delta = -np.arcsin(temp)\n",
    "print(np.degrees(delta))"
   ]
  },
  {
   "cell_type": "code",
   "execution_count": 8,
   "metadata": {},
   "outputs": [
    {
     "name": "stdout",
     "output_type": "stream",
     "text": [
      " the declination is  -0.91 degrees\n",
      " the declination is  23.43 degrees\n",
      " the declination is  -0.42 degrees\n",
      " the declination is -23.44 degrees\n"
     ]
    }
   ],
   "source": [
    "# display elements in the array\n",
    "for element in delta:\n",
    "    print(\" the declination is {:6.2f} degrees\".format(math.degrees(element)))"
   ]
  },
  {
   "cell_type": "code",
   "execution_count": 9,
   "metadata": {},
   "outputs": [
    {
     "name": "stdout",
     "output_type": "stream",
     "text": [
      "i    dat    delta {deg}\n",
      "0     79       -0.91\n",
      "1    171       23.43\n",
      "2    265       -0.42\n",
      "3    355      -23.44\n"
     ]
    }
   ],
   "source": [
    "# better way to display data\n",
    "print(\"i    dat    delta {deg}\")\n",
    "for i, val in enumerate(delta):\n",
    "    print(\"{1:d}    {2:3d}    {0:8.2f}\".format(math.degrees(val), i, N[i]))"
   ]
  },
  {
   "cell_type": "code",
   "execution_count": 10,
   "metadata": {},
   "outputs": [
    {
     "name": "stdout",
     "output_type": "stream",
     "text": [
      "dat    delta {deg}\n",
      " 79       -0.91\n",
      "171       23.43\n",
      "265       -0.42\n",
      "355      -23.44\n"
     ]
    }
   ],
   "source": [
    "# even better\n",
    "print(\"dat    delta {deg}\")\n",
    "for row in zip(N,delta):\n",
    "    print(\"{0:3d}    {1:8.2f}\".format(row[0], math.degrees(row[1])))"
   ]
  },
  {
   "attachments": {},
   "cell_type": "markdown",
   "metadata": {},
   "source": [
    "### 2.1.3 Diurnal Arc"
   ]
  },
  {
   "attachments": {},
   "cell_type": "markdown",
   "metadata": {},
   "source": [
    "#### The movement of a star on the sky that we can see from earth that has an arc shape is called the Diurnal Arc \n",
    "#### Betelgeuse is a red giant star in Orion Constellation, we can find find its information using astropy database"
   ]
  },
  {
   "cell_type": "code",
   "execution_count": 1,
   "metadata": {},
   "outputs": [
    {
     "name": "stdout",
     "output_type": "stream",
     "text": [
      "<SkyCoord (ICRS): (ra, dec) in deg\n",
      "    (88.79293899, 7.40706399)>\n"
     ]
    }
   ],
   "source": [
    "from astropy.coordinates import SkyCoord, EarthLocation\n",
    "betelgeuse = SkyCoord.from_name('Betelgeuse')\n",
    "print(betelgeuse) # ra: the right ascension, dec: declination of the star"
   ]
  },
  {
   "cell_type": "code",
   "execution_count": 2,
   "metadata": {},
   "outputs": [
    {
     "name": "stdout",
     "output_type": "stream",
     "text": [
      "7d24m25.430382s\n"
     ]
    }
   ],
   "source": [
    "# directly access the star's declination\n",
    "delta = betelgeuse.dec\n",
    "print(delta) # angular coordination consisting of: degree, arc minutes and seconds"
   ]
  },
  {
   "cell_type": "code",
   "execution_count": 7,
   "metadata": {},
   "outputs": [],
   "source": [
    "# set the geographical position in the center of Makkah 21° 23' 20.76\" N, 39° 51' 28.44\" E \n",
    "import astropy.units as u\n",
    "observer = EarthLocation(lat = 21*u.deg+23*u.arcmin+20.76*u.arcsec, lon=39*u.deg+51*u.arcmin+28.44*u.arcsec)\n",
    "phi = observer.lat # observer latitude"
   ]
  },
  {
   "attachments": {},
   "cell_type": "markdown",
   "metadata": {},
   "source": [
    "The hour which the star disappears from the sky is called hour set and can be computed by:\n",
    "$$ H_{set} = \\arccos(-\\tan \\delta \\tan \\phi)$$"
   ]
  },
  {
   "cell_type": "code",
   "execution_count": 8,
   "metadata": {},
   "outputs": [],
   "source": [
    "# using the formula above we can calculate the hour set from a viewpoint of an observer un Makkah\n",
    "import math\n",
    "hour_set = math.acos( - math.tan(delta.radian) * math.tan(phi.radian)) # convert from degrees to radian"
   ]
  },
  {
   "attachments": {},
   "cell_type": "markdown",
   "metadata": {},
   "source": [
    "#### The sidereal time of the object when its apparent on the sky, also called the diurnal arc length\n",
    "$$ T = 2 H_{set} $$"
   ]
  },
  {
   "cell_type": "code",
   "execution_count": 9,
   "metadata": {},
   "outputs": [
    {
     "name": "stdout",
     "output_type": "stream",
     "text": [
      "the diurnal arc length is 12.36 h\n"
     ]
    }
   ],
   "source": [
    "# apply convertions since the sidereal day is 4 minutes shorter than a solar day\n",
    "T = (math.degrees(2 * hour_set) / 360) * u.sday\n",
    "print(\"the diurnal arc length is {:.2f}\".format(T.to(u.h))) # this represents the daylight length in makkah! "
   ]
  },
  {
   "cell_type": "code",
   "execution_count": 10,
   "metadata": {},
   "outputs": [],
   "source": [
    "# find the daylight length of makkah through out the whole year\n",
    "import numpy as np\n",
    "\n",
    "N = np.arange(365) # make an array that represents days of the year -1\n",
    "omega = 2 * math.pi / 365.24 # the angular velocity of earth\n",
    "ecl = math.radians(23.44) # obliquity of the ecliptic\n",
    "delta = -np.arcsin(math.sin(ecl) * np.cos(omega * (N + 10))) # declination of the sun all the year\n",
    "h_set = np.arccos(-np.tan(delta) * math.tan(phi.radian)) # hour set \n",
    "T = (np.degrees(2 * h_set)/ 360) * u.sday.to(u.h) # convert to solar hours for all days"
   ]
  },
  {
   "cell_type": "code",
   "execution_count": 11,
   "metadata": {},
   "outputs": [
    {
     "data": {
      "image/png": "[encoded data removed]",
      "text/plain": [
       "<Figure size 432x288 with 1 Axes>"
      ]
     },
     "metadata": {
      "needs_background": "light"
     },
     "output_type": "display_data"
    }
   ],
   "source": [
    "# plot data created of daylight length in Makkah\n",
    "import matplotlib.pyplot as plt\n",
    "%matplotlib inline\n",
    "plt.plot(N, T)\n",
    "plt.xlabel(\"Day\")\n",
    "plt.ylabel(\"Day length [hr]\")\n",
    "plt.savefig(\"Makkah_day_length.pdf\")"
   ]
  },
  {
   "cell_type": "code",
   "execution_count": 13,
   "metadata": {},
   "outputs": [
    {
     "name": "stdout",
     "output_type": "stream",
     "text": [
      "Maximum daylight length in Makkah is 13.27 h \n",
      "Minimum daylight length in Makkah is 10.67 h \n"
     ]
    }
   ],
   "source": [
    "print(\"Maximum daylight length in Makkah is {:5.2f} h \".format(T.max()))\n",
    "print(\"Minimum daylight length in Makkah is {:5.2f} h \".format(T.min()))"
   ]
  },
  {
   "cell_type": "code",
   "execution_count": 14,
   "metadata": {},
   "outputs": [
    {
     "name": "stderr",
     "output_type": "stream",
     "text": [
      "c:\\Users\\KHELLO\\AppData\\Local\\Programs\\Python\\Python37\\lib\\site-packages\\ipykernel_launcher.py:4: RuntimeWarning: invalid value encountered in arccos\n",
      "  after removing the cwd from sys.path.\n"
     ]
    }
   ],
   "source": [
    "# A city located in Norway, called Longyearbyen has the latitude 78d13m\n",
    "phi = math.radians(78+13/60) # we can convert the latitude to radians witout having to use of exact location with EarthLocation\n",
    "\n",
    "h_set = np.arccos(-np.tan(delta) * math.tan(phi))\n",
    "T = (np.degrees(2 * h_set) / 360 * u.sday.to(u.h))"
   ]
  },
  {
   "cell_type": "code",
   "execution_count": 15,
   "metadata": {},
   "outputs": [
    {
     "data": {
      "image/png": "[encoded data removed]",
      "text/plain": [
       "<Figure size 432x288 with 1 Axes>"
      ]
     },
     "metadata": {
      "needs_background": "light"
     },
     "output_type": "display_data"
    }
   ],
   "source": [
    "tmp = np.clip(-np.tan(delta) * math.tan(phi), -1.0, 1.0)\n",
    "h_set = np.arccos(tmp)\n",
    "T = (np.degrees(2*h_set)/360 * u.sday.to(u.h))\n",
    "plt.plot(N, T)\n",
    "plt.xlabel(\"Day\")\n",
    "plt.ylabel(\"Day length [hr]\")\n",
    "plt.savefig(\"Longyearbyen_day_length.pdf\")"
   ]
  },
  {
   "attachments": {},
   "cell_type": "markdown",
   "metadata": {},
   "source": [
    "#### from the graph, we find that in the norwagian town Longyearbyen during summer, the day light would be 24 hours, and no night!, but at winter, it is the exact opposite\n",
    "#### this is due to the daylight length being affected by the latitude of the sun observer\n",
    "#### We can compare the data we have about Makkah and Longyeardyen "
   ]
  },
  {
   "cell_type": "code",
   "execution_count": 16,
   "metadata": {},
   "outputs": [
    {
     "name": "stdout",
     "output_type": "stream",
     "text": [
      "0.3733102190383192\n"
     ]
    }
   ],
   "source": [
    "phi = {\"Makkah\" : observer.lat.radian,\n",
    "       \"Longyearbyen\" : math.radians(78 + 13 /60)}\n",
    "print(phi[\"Makkah\"])"
   ]
  },
  {
   "cell_type": "code",
   "execution_count": 17,
   "metadata": {},
   "outputs": [
    {
     "data": {
      "text/plain": [
       "4"
      ]
     },
     "execution_count": 17,
     "metadata": {},
     "output_type": "execute_result"
    }
   ],
   "source": [
    "# add more cities\n",
    "phi[\"New York\"] = math.radians(40 + 43 / 60)\n",
    "phi[\"Bangkok\"] = math.radians(13 + 45 / 60)\n",
    "len(phi)"
   ]
  },
  {
   "cell_type": "code",
   "execution_count": 19,
   "metadata": {},
   "outputs": [
    {
     "name": "stdout",
     "output_type": "stream",
     "text": [
      "Makkah: 21.39 deg\n",
      "Longyearbyen: 78.22 deg\n",
      "New York: 40.72 deg\n",
      "Bangkok: 13.75 deg\n"
     ]
    },
    {
     "data": {
      "image/png": "[encoded data removed]",
      "text/plain": [
       "<Figure size 432x288 with 1 Axes>"
      ]
     },
     "metadata": {
      "needs_background": "light"
     },
     "output_type": "display_data"
    }
   ],
   "source": [
    "for key in phi:\n",
    "    print(key + \": {:.2f} deg\".format(math.degrees(phi[key])))\n",
    "    h_set = np.arccos(np.clip(-np.tan(delta) * math.tan(phi[key]), -1.0, 1.0))\n",
    "    T = (np.degrees(2*h_set)/360 * u.sday.to(u.h))\n",
    "    plt.plot(N, T, label = key)\n",
    "plt.xlabel(\"Day\")\n",
    "plt.xlim(0, 364)\n",
    "plt.ylabel(\"Daylight length [hr]\")\n",
    "plt.ylim(0, 24)\n",
    "plt.legend(loc = \"upper right\")\n",
    "plt.savefig(\"daylength.pdf\")"
   ]
  },
  {
   "attachments": {},
   "cell_type": "markdown",
   "metadata": {},
   "source": [
    "#### From the graph, we can conclude that the closer to the Equator the more balance between the day and night length will be, for example, Makkah and Bangkok have approximatly 12-13 hours of day and night, While at the polar side Longyearbyen have big variation throughout the year in daylight length. "
   ]
  }
 ],
 "metadata": {
  "kernelspec": {
   "display_name": "Python 3",
   "language": "python",
   "name": "python3"
  },
  "language_info": {
   "codemirror_mode": {
    "name": "ipython",
    "version": 3
   },
   "file_extension": ".py",
   "mimetype": "text/x-python",
   "name": "python",
   "nbconvert_exporter": "python",
   "pygments_lexer": "ipython3",
   "version": "3.7.6"
  },
  "orig_nbformat": 4
 },
 "nbformat": 4,
 "nbformat_minor": 2
}
